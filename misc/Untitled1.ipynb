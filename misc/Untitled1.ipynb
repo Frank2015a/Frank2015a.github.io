{
 "cells": [
  {
   "cell_type": "code",
   "execution_count": null,
   "metadata": {},
   "outputs": [],
   "source": []
  },
  {
   "cell_type": "code",
   "execution_count": 1,
   "metadata": {},
   "outputs": [],
   "source": [
    "from IPython.display import display"
   ]
  },
  {
   "cell_type": "code",
   "execution_count": 2,
   "metadata": {},
   "outputs": [
    {
     "data": {
      "application/vnd.plotly.v1+json": {
       "data": [
        {
         "type": "scatter",
         "x": [
          1999,
          2000,
          2001,
          2002
         ],
         "y": [
          10,
          15,
          13,
          17
         ]
        },
        {
         "type": "scatter",
         "x": [
          1999,
          2000,
          2001,
          2002
         ],
         "y": [
          16,
          5,
          11,
          9
         ]
        }
       ],
       "layout": {
        "autosize": true,
        "title": {
         "text": "Sales Growth"
        },
        "xaxis": {
         "autorange": true,
         "range": [
          1998.8089953271028,
          2002.1910046728972
         ],
         "showgrid": false,
         "title": {
          "text": "Year"
         },
         "type": "linear",
         "zeroline": false
        },
        "yaxis": {
         "autorange": true,
         "range": [
          4.1210191082802545,
          17.878980891719745
         ],
         "showline": false,
         "title": {
          "text": "Percent"
         },
         "type": "linear"
        }
       }
      }
     },
     "metadata": {},
     "output_type": "display_data"
    }
   ],
   "source": [
    "def Plotly(data=[], layout={}):\n",
    "    bundle = {}\n",
    "    bundle['application/vnd.plotly.v1+json'] = {\n",
    "        'data': data,\n",
    "        'layout': layout,\n",
    "    }\n",
    "    display(bundle, raw=True)\n",
    "\n",
    "data = [\n",
    "    {'x': [1999, 2000, 2001, 2002], 'y': [10, 15, 13, 17], 'type': 'scatter'},\n",
    "    {'x': [1999, 2000, 2001, 2002], 'y': [16, 5, 11, 9], 'type': 'scatter'}\n",
    "]\n",
    "\n",
    "layout = {\n",
    "    'title': 'Sales Growth',\n",
    "    'xaxis': {'title': 'Year', 'showgrid': False, 'zeroline': False},\n",
    "    'yaxis': {'title': 'Percent', 'showline': False}\n",
    "}\n",
    "\n",
    "Plotly(data, layout)"
   ]
  },
  {
   "cell_type": "code",
   "execution_count": 3,
   "metadata": {},
   "outputs": [],
   "source": [
    "import plotly\n",
    "from plotly.offline import iplot\n",
    "\n",
    "trace = plotly.graph_objs.Heatmap(z=[[1, 20, 30],\n",
    "                      [20, 1, 60],\n",
    "                      [30, 60, 1]])\n",
    "\n",
    "fig = dict(data=[trace])"
   ]
  },
  {
   "cell_type": "code",
   "execution_count": 4,
   "metadata": {},
   "outputs": [
    {
     "data": {
      "application/vnd.plotly.v1+json": {
       "config": {
        "linkText": "Export to plot.ly",
        "plotlyServerURL": "https://plot.ly",
        "showLink": false
       },
       "data": [
        {
         "type": "heatmap",
         "uid": "908ce91a-3a60-4502-b592-9cfd46c24d38",
         "z": [
          [
           1,
           20,
           30
          ],
          [
           20,
           1,
           60
          ],
          [
           30,
           60,
           1
          ]
         ]
        }
       ],
       "layout": {
        "autosize": true,
        "xaxis": {
         "autorange": true,
         "range": [
          -0.5,
          2.5
         ]
        },
        "yaxis": {
         "autorange": true,
         "range": [
          -0.5,
          2.5
         ]
        }
       }
      }
     },
     "metadata": {},
     "output_type": "display_data"
    }
   ],
   "source": [
    "iplot(fig)"
   ]
  },
  {
   "cell_type": "code",
   "execution_count": null,
   "metadata": {},
   "outputs": [],
   "source": []
  }
 ],
 "metadata": {
  "kernelspec": {
   "display_name": "Python 3",
   "language": "python",
   "name": "python3"
  },
  "language_info": {
   "codemirror_mode": {
    "name": "ipython",
    "version": 3
   },
   "file_extension": ".py",
   "mimetype": "text/x-python",
   "name": "python",
   "nbconvert_exporter": "python",
   "pygments_lexer": "ipython3",
   "version": "3.7.3"
  }
 },
 "nbformat": 4,
 "nbformat_minor": 2
}
